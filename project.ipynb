{
  "cells": [
    {
      "cell_type": "markdown",
      "metadata": {
        "id": "Md413FzAvFD8"
      },
      "source": [
        "# DX 704 Week 8 Project\n",
        "\n",
        "This homework will modify a simulator controlling a small vehicle to implement tabular q-learning.\n",
        "You will first test your code with random and greedy-epsilon policies, then tweak your own training method for a more optimal policy."
      ]
    },
    {
      "cell_type": "markdown",
      "metadata": {
        "id": "EvEjsVg10YFf"
      },
      "source": [
        "The full project description and a template notebook are available on GitHub: [Project 8 Materials](https://github.com/bu-cds-dx704/dx704-project-08).\n"
      ]
    },
    {
      "cell_type": "markdown",
      "metadata": {
        "id": "RT7nKctadu6R"
      },
      "source": [
        "## Example Code\n",
        "\n",
        "You may find it helpful to refer to these GitHub repositories of Jupyter notebooks for example code.\n",
        "\n",
        "* https://github.com/bu-cds-omds/dx601-examples\n",
        "* https://github.com/bu-cds-omds/dx602-examples\n",
        "* https://github.com/bu-cds-omds/dx603-examples\n",
        "* https://github.com/bu-cds-omds/dx704-examples\n",
        "\n",
        "Any calculations demonstrated in code examples or videos may be found in these notebooks, and you are allowed to copy this example code in your homework answers."
      ]
    },
    {
      "cell_type": "markdown",
      "metadata": {
        "id": "MUD8aVv44IVP"
      },
      "source": [
        "## Rover Simulator\n",
        "\n",
        "The following Python class implements a simulation of a simple vehicle with integer x,y coordinates facing in one of 8 possible directions.\n"
      ]
    },
    {
      "cell_type": "code",
      "execution_count": 1,
      "metadata": {
        "id": "Sv0BRzHz187D"
      },
      "outputs": [],
      "source": [
        "# DO NOT CHANGE\n",
        "\n",
        "import random\n",
        "\n",
        "class RoverSimulator(object):\n",
        "    DIRECTIONS = ((0, 1), (1, 1), (1, 0), (1, -1), (0, -1), (-1, -1), (-1, 0), (-1, 1))\n",
        "\n",
        "    def __init__(self, resolution):\n",
        "        self.resolution = resolution\n",
        "        self.terminal_state = self.construct_state(resolution // 2, resolution // 2, 0)\n",
        "\n",
        "        self.initial_states = []\n",
        "        for initial_x in (0, resolution // 2, resolution - 1):\n",
        "            for initial_y in (0, resolution // 2, resolution - 1):\n",
        "                for initial_direction in range(8):\n",
        "                    initial_state = self.construct_state(initial_x, initial_y, initial_direction)\n",
        "                    if initial_state != self.terminal_state:\n",
        "                        self.initial_states.append(initial_state)\n",
        "\n",
        "    def construct_state(self, x, y, direction):\n",
        "        assert 0 <= x < self.resolution\n",
        "        assert 0 <= y < self.resolution\n",
        "        assert 0 <= direction < 8\n",
        "\n",
        "        state = (y * self.resolution + x) * 8 + direction\n",
        "        assert self.decode_state(state) == (x, y, direction)\n",
        "        return state\n",
        "\n",
        "    def decode_state(self, state):\n",
        "        direction = state % 8\n",
        "        x = (state // 8) % self.resolution\n",
        "        y = state // (8 * self.resolution)\n",
        "\n",
        "        return (x, y, direction)\n",
        "\n",
        "    def get_actions(self, state):\n",
        "        return [-1, 0, 1]\n",
        "\n",
        "    def get_next_reward_state(self, curr_state, curr_action):\n",
        "        if curr_state == self.terminal_state:\n",
        "            # no rewards or changes from terminal state\n",
        "            return (0, curr_state)\n",
        "\n",
        "        (curr_x, curr_y, curr_direction) = self.decode_state(curr_state)\n",
        "        (curr_dx, curr_dy) = self.DIRECTIONS[curr_direction]\n",
        "\n",
        "        assert self.construct_state(curr_x, curr_y, curr_direction) == curr_state\n",
        "\n",
        "        assert curr_action in (-1, 0, 1)\n",
        "\n",
        "        next_x = min(max(0, curr_x + curr_dx), self.resolution - 1)\n",
        "        next_y = min(max(0, curr_y + curr_dy), self.resolution - 1)\n",
        "        next_direction = (curr_direction + curr_action) % 8\n",
        "\n",
        "        next_state = self.construct_state(next_x, next_y, next_direction)\n",
        "        next_reward = 1 if next_state == self.terminal_state else 0\n",
        "\n",
        "        return (next_reward, next_state)\n",
        "\n",
        "    def rollout_policy(self, policy_func, max_steps=1000):\n",
        "        curr_state = self.sample_initial_state()\n",
        "        for i in range(max_steps):\n",
        "            curr_action = policy_func(curr_state, self.get_actions(curr_state))\n",
        "            (next_reward, next_state) = self.get_next_reward_state(curr_state, curr_action)\n",
        "            yield (curr_state, curr_action, next_reward, next_state)\n",
        "            curr_state = next_state\n",
        "\n",
        "    def sample_initial_state(self):\n",
        "        return random.choice(self.initial_states)"
      ]
    },
    {
      "cell_type": "code",
      "execution_count": 2,
      "metadata": {
        "colab": {
          "base_uri": "https://localhost:8080/"
        },
        "id": "5LMQrlfX4Ybs",
        "outputId": "82744cc1-1f98-48c4-fc6b-49631b89afdd"
      },
      "outputs": [
        {
          "name": "stdout",
          "output_type": "stream",
          "text": [
            "INITIAL SAMPLE 1029\n"
          ]
        }
      ],
      "source": [
        "simulator = RoverSimulator(16)\n",
        "initial_sample = simulator.sample_initial_state()\n",
        "print(\"INITIAL SAMPLE\", initial_sample)"
      ]
    },
    {
      "cell_type": "markdown",
      "metadata": {
        "id": "C8oSLkMqvMFF"
      },
      "source": [
        "## Part 1: Implement a Random Policy\n",
        "\n",
        "Random policies are often used to test simulators and start initial exploration.\n",
        "Implement a random policy for these simulators."
      ]
    },
    {
      "cell_type": "code",
      "execution_count": 3,
      "metadata": {
        "id": "DewHlicn4PtW"
      },
      "outputs": [],
      "source": [
        "# YOUR CHANGES HERE\n",
        "\n",
        "def random_policy(state, actions):\n",
        "    return 0"
      ]
    },
    {
      "cell_type": "code",
      "execution_count": 4,
      "metadata": {},
      "outputs": [
        {
          "name": "stdout",
          "output_type": "stream",
          "text": [
            "Wrote log-random.tsv\n"
          ]
        }
      ],
      "source": [
        "import csv, random\n",
        "\n",
        "# --- Part 1: random policy\n",
        "def random_policy(state, actions):\n",
        "    return random.choice(actions)\n",
        "\n",
        "# run once and SAVE: log-random.tsv\n",
        "with open(\"log-random.tsv\", \"w\", newline=\"\") as f:\n",
        "    w = csv.writer(f, delimiter=\"\\t\")\n",
        "    w.writerow([\"curr_state\",\"curr_action\",\"next_reward\",\"next_state\"])\n",
        "    for (cs, ca, nr, ns) in simulator.rollout_policy(random_policy, max_steps=32):\n",
        "        w.writerow([cs, ca, nr, ns])\n",
        "\n",
        "print(\"Wrote log-random.tsv\")\n"
      ]
    },
    {
      "cell_type": "markdown",
      "metadata": {
        "id": "iJYOB9zl6szl"
      },
      "source": [
        "Use the code below to test your random policy.\n",
        "Then modify it to save the results in \"log-random.tsv\" with the columns curr_state, curr_action, next_reward and next_state."
      ]
    },
    {
      "cell_type": "code",
      "execution_count": 5,
      "metadata": {
        "colab": {
          "base_uri": "https://localhost:8080/"
        },
        "id": "xgnNCJH453qE",
        "outputId": "83ddd35e-a87d-40ee-bd4c-f82d6dbbd4bc"
      },
      "outputs": [
        {
          "name": "stdout",
          "output_type": "stream",
          "text": [
            "CURR STATE 1091 ACTION 1 NEXT REWARD 0 NEXT STATE 972\n",
            "CURR STATE 972 ACTION 1 NEXT REWARD 0 NEXT STATE 845\n",
            "CURR STATE 845 ACTION -1 NEXT REWARD 0 NEXT STATE 708\n",
            "CURR STATE 708 ACTION 1 NEXT REWARD 0 NEXT STATE 581\n",
            "CURR STATE 581 ACTION -1 NEXT REWARD 0 NEXT STATE 444\n",
            "CURR STATE 444 ACTION -1 NEXT REWARD 0 NEXT STATE 315\n",
            "CURR STATE 315 ACTION -1 NEXT REWARD 0 NEXT STATE 194\n",
            "CURR STATE 194 ACTION 1 NEXT REWARD 0 NEXT STATE 203\n",
            "CURR STATE 203 ACTION 1 NEXT REWARD 0 NEXT STATE 84\n",
            "CURR STATE 84 ACTION 1 NEXT REWARD 0 NEXT STATE 85\n",
            "CURR STATE 85 ACTION 0 NEXT REWARD 0 NEXT STATE 77\n",
            "CURR STATE 77 ACTION 1 NEXT REWARD 0 NEXT STATE 70\n",
            "CURR STATE 70 ACTION -1 NEXT REWARD 0 NEXT STATE 61\n",
            "CURR STATE 61 ACTION -1 NEXT REWARD 0 NEXT STATE 52\n",
            "CURR STATE 52 ACTION 0 NEXT REWARD 0 NEXT STATE 52\n",
            "CURR STATE 52 ACTION -1 NEXT REWARD 0 NEXT STATE 51\n",
            "CURR STATE 51 ACTION 1 NEXT REWARD 0 NEXT STATE 60\n",
            "CURR STATE 60 ACTION -1 NEXT REWARD 0 NEXT STATE 59\n",
            "CURR STATE 59 ACTION -1 NEXT REWARD 0 NEXT STATE 66\n",
            "CURR STATE 66 ACTION -1 NEXT REWARD 0 NEXT STATE 73\n",
            "CURR STATE 73 ACTION 0 NEXT REWARD 0 NEXT STATE 209\n",
            "CURR STATE 209 ACTION -1 NEXT REWARD 0 NEXT STATE 344\n",
            "CURR STATE 344 ACTION -1 NEXT REWARD 0 NEXT STATE 479\n",
            "CURR STATE 479 ACTION -1 NEXT REWARD 0 NEXT STATE 598\n",
            "CURR STATE 598 ACTION 1 NEXT REWARD 0 NEXT STATE 591\n",
            "CURR STATE 591 ACTION 1 NEXT REWARD 0 NEXT STATE 704\n",
            "CURR STATE 704 ACTION 1 NEXT REWARD 0 NEXT STATE 833\n",
            "CURR STATE 833 ACTION 0 NEXT REWARD 0 NEXT STATE 969\n",
            "CURR STATE 969 ACTION 1 NEXT REWARD 0 NEXT STATE 1106\n",
            "CURR STATE 1106 ACTION 0 NEXT REWARD 0 NEXT STATE 1114\n",
            "CURR STATE 1114 ACTION -1 NEXT REWARD 0 NEXT STATE 1121\n",
            "CURR STATE 1121 ACTION -1 NEXT REWARD 0 NEXT STATE 1256\n"
          ]
        }
      ],
      "source": [
        "# YOUR CHANGES HERE\n",
        "\n",
        "for (curr_state, curr_action, next_reward, next_state) in simulator.rollout_policy(random_policy, max_steps=32):\n",
        "    print(\"CURR STATE\", curr_state, \"ACTION\", curr_action, \"NEXT REWARD\", next_reward, \"NEXT STATE\", next_state)"
      ]
    },
    {
      "cell_type": "markdown",
      "metadata": {
        "id": "nRZOd3Bk7JIz"
      },
      "source": [
        "Submit \"log-random.tsv\" in Gradescope."
      ]
    },
    {
      "cell_type": "markdown",
      "metadata": {
        "id": "bAWky_dR7QK1"
      },
      "source": [
        "## Part 2: Implement Q-Learning with Random Policy\n",
        "\n",
        "The code below runs 32 random rollouts of 1024 steps using your random policy.\n",
        "Modify the rollout code to implement Q-Learning.\n",
        "Just implement one learning update for each sampled state-action in the simulation.\n",
        "Use $\\alpha=1$ and $\\gamma=0.9$ since the simulator is deterministic and there is a sink where the rewards stop.\n",
        "\n",
        "\n"
      ]
    },
    {
      "cell_type": "code",
      "execution_count": 6,
      "metadata": {
        "id": "231quBGA7pVd"
      },
      "outputs": [],
      "source": [
        "# YOUR CHANGES HERE\n",
        "\n",
        "for episode in range(32):\n",
        "    for (curr_state, curr_action, next_reward, next_state) in simulator.rollout_policy(random_policy, max_steps=1024):\n",
        "        #print(\"CURR STATE\", curr_state, \"ACTION\", curr_action, \"NEXT REWARD\", next_reward, \"NEXT STATE\", next_state)\n",
        "        pass"
      ]
    },
    {
      "cell_type": "markdown",
      "metadata": {
        "id": "tDBNOFLcPPRs"
      },
      "source": [
        "Save each step in the simulator in a file \"q-random.tsv\" with columns curr_state, curr_action, next_reward, next_state, old_value, new_value."
      ]
    },
    {
      "cell_type": "code",
      "execution_count": 7,
      "metadata": {
        "id": "W8cFRd7uPGqy"
      },
      "outputs": [
        {
          "name": "stdout",
          "output_type": "stream",
          "text": [
            "Wrote q-random.tsv\n"
          ]
        }
      ],
      "source": [
        "# YOUR CHANGES HERE\n",
        "\n",
        "# --- Part 2: tabular Q-learning with random policy\n",
        "from collections import defaultdict\n",
        "\n",
        "gamma = 0.9\n",
        "alpha = 1.0   # deterministic env\n",
        "\n",
        "Q = defaultdict(float)\n",
        "\n",
        "def q_get(s, a): \n",
        "    return Q[(s,a)]\n",
        "\n",
        "def q_set(s, a, v): \n",
        "    Q[(s,a)] = v\n",
        "\n",
        "def max_q_next(s_next):\n",
        "    acts = simulator.get_actions(s_next)\n",
        "    return max(q_get(s_next,a) for a in acts)\n",
        "\n",
        "# learn + LOG every update\n",
        "with open(\"q-random.tsv\", \"w\", newline=\"\") as f:\n",
        "    w = csv.writer(f, delimiter=\"\\t\")\n",
        "    w.writerow([\"curr_state\",\"curr_action\",\"next_reward\",\"next_state\",\"old_value\",\"new_value\"])\n",
        "    for episode in range(32):\n",
        "        for (cs, ca, nr, ns) in simulator.rollout_policy(random_policy, max_steps=1024):\n",
        "            old = q_get(cs, ca)\n",
        "            target = nr + gamma * max_q_next(ns)\n",
        "            new = target if alpha == 1.0 else (1 - alpha)*old + alpha*target\n",
        "            q_set(cs, ca, new)\n",
        "            w.writerow([cs, ca, nr, ns, old, new])\n",
        "\n",
        "print(\"Wrote q-random.tsv\")\n"
      ]
    },
    {
      "cell_type": "markdown",
      "metadata": {
        "id": "Tnu4j4Yp72k1"
      },
      "source": [
        "Submit \"q-random.tsv\" in Gradescope."
      ]
    },
    {
      "cell_type": "markdown",
      "metadata": {
        "id": "bMBmh7UW-vJU"
      },
      "source": [
        "## Part 3: Implement Epsilon-Greedy Policy\n",
        "\n",
        "Implement an epsilon-greedy policy that picks the optimal policy based on your q-values so far 75% of the time, and picks a random action 25% of the time.\n",
        "This is a high epsilon value, but the environment is deterministic, so it will benefit from more exploration."
      ]
    },
    {
      "cell_type": "code",
      "execution_count": 8,
      "metadata": {
        "id": "pS7g1sETAbKd"
      },
      "outputs": [],
      "source": [
        "# YOUR CHANGES HERE\n",
        "\n",
        "# hard-code epsilon=0.25. this is high but the environment is deterministic.\n",
        "def epsilon_greedy_policy(state, actions):\n",
        "    return 0"
      ]
    },
    {
      "cell_type": "markdown",
      "metadata": {
        "id": "PpSMW7CNAtEw"
      },
      "source": [
        "Combine your epsilon-greedy policy with q-learning below and save the observations and updates in \"q-greedy.tsv\" with columns curr_state, curr_action, next_reward, next_state, old_value, new_value."
      ]
    },
    {
      "cell_type": "markdown",
      "metadata": {
        "id": "I5nkGhMOVJFp"
      },
      "source": [
        "Hint: make sure to reset your q-learning state before running the simulation below so that the learning process is recorded from the beginning."
      ]
    },
    {
      "cell_type": "code",
      "execution_count": 9,
      "metadata": {
        "id": "JcNQg6qRAsqc"
      },
      "outputs": [],
      "source": [
        "# YOUR CHANGES HERE\n",
        "\n",
        "for episode in range(32):\n",
        "    for (curr_state, curr_action, next_reward, next_state) in simulator.rollout_policy(epsilon_greedy_policy, max_steps=1024):\n",
        "        #print(\"CURR STATE\", curr_state, \"ACTION\", curr_action, \"NEXT REWARD\", next_reward, \"NEXT STATE\", next_state)\n",
        "\n",
        "        if next_reward > 0:\n",
        "            # moving to terminal state\n",
        "            break\n",
        "\n",
        "        pass"
      ]
    },
    {
      "cell_type": "code",
      "execution_count": 10,
      "metadata": {},
      "outputs": [
        {
          "name": "stdout",
          "output_type": "stream",
          "text": [
            "Wrote q-greedy.tsv\n"
          ]
        }
      ],
      "source": [
        "# --- Part 3: reset Q and use epsilon-greedy policy\n",
        "Q = defaultdict(float)\n",
        "epsilon = 0.25\n",
        "gamma = 0.9\n",
        "alpha = 1.0\n",
        "\n",
        "def greedy_action(state):\n",
        "    actions = simulator.get_actions(state)\n",
        "    # tie-break by fixed order to keep deterministic\n",
        "    best = max(actions, key=lambda a: Q[(state,a)])\n",
        "    return best\n",
        "\n",
        "def epsilon_greedy_policy(state, actions):\n",
        "    if random.random() < epsilon:\n",
        "        return random.choice(actions)\n",
        "    return greedy_action(state)\n",
        "\n",
        "with open(\"q-greedy.tsv\", \"w\", newline=\"\") as f:\n",
        "    w = csv.writer(f, delimiter=\"\\t\")\n",
        "    w.writerow([\"curr_state\",\"curr_action\",\"next_reward\",\"next_state\",\"old_value\",\"new_value\"])\n",
        "    for episode in range(32):\n",
        "        # fresh rollout from a random initial state\n",
        "        for (cs, _, _, _) in simulator.rollout_policy(lambda s, a: 0, max_steps=0):\n",
        "            pass  # (no-op to satisfy structure)\n",
        "        # do our own loop to access the chosen action\n",
        "        curr_state = simulator.sample_initial_state()\n",
        "        for step in range(1024):\n",
        "            ca = epsilon_greedy_policy(curr_state, simulator.get_actions(curr_state))\n",
        "            nr, ns = simulator.get_next_reward_state(curr_state, ca)\n",
        "\n",
        "            old = Q[(curr_state, ca)]\n",
        "            target = nr + gamma * max(Q[(ns,a)] for a in simulator.get_actions(ns))\n",
        "            new = target if alpha == 1.0 else (1 - alpha)*old + alpha*target\n",
        "            Q[(curr_state, ca)] = new\n",
        "\n",
        "            w.writerow([curr_state, ca, nr, ns, old, new])\n",
        "\n",
        "            curr_state = ns\n",
        "            if nr > 0:  # reached terminal, stop this episode early\n",
        "                break\n",
        "\n",
        "print(\"Wrote q-greedy.tsv\")\n"
      ]
    },
    {
      "cell_type": "markdown",
      "metadata": {
        "id": "3Vd246wcA0HV"
      },
      "source": [
        "Submit \"q-greedy.tsv\" in Gradescope."
      ]
    },
    {
      "cell_type": "markdown",
      "metadata": {
        "id": "zgGc8aP8DCzW"
      },
      "source": [
        "## Part 4: Extract Policy from Q-Values\n",
        "\n",
        "Using your final q-values from the previous simulation, extract a policy picking the best actions according to those q-values.\n",
        "Save the policy in a file \"policy-greedy.tsv\" with columns state and action."
      ]
    },
    {
      "cell_type": "code",
      "execution_count": 11,
      "metadata": {
        "id": "w7VnSBcYDINb"
      },
      "outputs": [
        {
          "name": "stdout",
          "output_type": "stream",
          "text": [
            "Wrote policy-greedy.tsv\n"
          ]
        }
      ],
      "source": [
        "# YOUR CHANGES HERE\n",
        "\n",
        "# --- Part 4: write a policy action for EVERY state in the grid\n",
        "def all_states(sim):\n",
        "    states = []\n",
        "    for y in range(sim.resolution):\n",
        "        for x in range(sim.resolution):\n",
        "            for d in range(8):\n",
        "                states.append(sim.construct_state(x, y, d))\n",
        "    return states\n",
        "\n",
        "with open(\"policy-greedy.tsv\", \"w\", newline=\"\") as f:\n",
        "    w = csv.writer(f, delimiter=\"\\t\")\n",
        "    w.writerow([\"state\",\"action\"])\n",
        "    for s in all_states(simulator):\n",
        "        actions = simulator.get_actions(s)\n",
        "        # default to 0 if Q never saw this state-action\n",
        "        best = max(actions, key=lambda a: Q[(s,a)])\n",
        "        w.writerow([s, best])\n",
        "\n",
        "print(\"Wrote policy-greedy.tsv\")\n"
      ]
    },
    {
      "cell_type": "markdown",
      "metadata": {
        "id": "DLcCtb64DJl-"
      },
      "source": [
        "Submit \"policy-greedy.tsv\" in Gradescope."
      ]
    },
    {
      "cell_type": "markdown",
      "metadata": {
        "id": "kE1-nlr6Byq2"
      },
      "source": [
        "## Part 5: Implement Large Policy\n",
        "\n",
        "Train a more optimal policy using q-learning.\n",
        "Save the policy in a file \"policy-optimal.tsv\" with columns state and action."
      ]
    },
    {
      "cell_type": "markdown",
      "metadata": {
        "id": "nHuR4N4BD3_r"
      },
      "source": [
        "Hint: this policy will be graded on its performance compared to optimal for each of the initial states.\n",
        "**You will get full credit if the average value of your policy for the initial states is within 20% of optimal.**\n",
        "Make sure that your policy has coverage of all the initial states, and does not take actions leading to states not included in your policy.\n",
        "You will have to run several rollouts to get coverage of all the initial states, and the provided loops for parts 2 and 3 only consist of one rollout each."
      ]
    },
    {
      "cell_type": "markdown",
      "metadata": {
        "id": "u_DWSxVHTp62"
      },
      "source": [
        "Hint: this environment only gives one non-zero reward per episode, so you may want to cut off rollouts for speed once they get that reward.\n",
        "But make sure you update the q-values first!"
      ]
    },
    {
      "cell_type": "code",
      "execution_count": 12,
      "metadata": {
        "id": "b1A9W4gCDiRZ"
      },
      "outputs": [
        {
          "name": "stdout",
          "output_type": "stream",
          "text": [
            "Wrote policy-optimal.tsv\n"
          ]
        }
      ],
      "source": [
        "# YOUR CHANGES HERE\n",
        "\n",
        "# --- Part 5: more training with many short episodes and epsilon decay\n",
        "Q = defaultdict(float)\n",
        "gamma = 0.9\n",
        "alpha = 1.0\n",
        "\n",
        "def eps_greedy(s, eps):\n",
        "    if random.random() < eps:\n",
        "        return random.choice(simulator.get_actions(s))\n",
        "    return max(simulator.get_actions(s), key=lambda a: Q[(s,a)])\n",
        "\n",
        "episodes = 6000\n",
        "max_steps = 256\n",
        "eps_start, eps_end = 0.6, 0.05\n",
        "\n",
        "for ep in range(episodes):\n",
        "    # linear epsilon decay\n",
        "    eps = eps_start + (eps_end - eps_start) * (ep / max(1, episodes - 1))\n",
        "    s = simulator.sample_initial_state()\n",
        "    for t in range(max_steps):\n",
        "        a = eps_greedy(s, eps)\n",
        "        r, s2 = simulator.get_next_reward_state(s, a)\n",
        "\n",
        "        # TD(0) update with α=1 (deterministic)\n",
        "        Q[(s,a)] = r + gamma * max(Q[(s2,b)] for b in simulator.get_actions(s2))\n",
        "\n",
        "        s = s2\n",
        "        if r > 0:\n",
        "            break  # reached goal; next episode\n",
        "\n",
        "# export full policy for ALL states (coverage safe for grader)\n",
        "with open(\"policy-optimal.tsv\", \"w\", newline=\"\") as f:\n",
        "    w = csv.writer(f, delimiter=\"\\t\")\n",
        "    w.writerow([\"state\",\"action\"])\n",
        "    for s in all_states(simulator):\n",
        "        actions = simulator.get_actions(s)\n",
        "        best = max(actions, key=lambda a: Q[(s,a)])\n",
        "        w.writerow([s, best])\n",
        "\n",
        "print(\"Wrote policy-optimal.tsv\")\n"
      ]
    },
    {
      "cell_type": "markdown",
      "metadata": {
        "id": "2BUoHvjUDkjf"
      },
      "source": [
        "Submit \"policy-optimal.tsv\" in Gradescope."
      ]
    },
    {
      "cell_type": "markdown",
      "metadata": {
        "id": "smsTLuFcvR-I"
      },
      "source": [
        "## Part 6: Code\n",
        "\n",
        "Please submit a Jupyter notebook that can reproduce all your calculations and recreate the previously submitted files.\n",
        "You do not need to provide code for data collection if you did that by manually."
      ]
    },
    {
      "cell_type": "markdown",
      "metadata": {
        "id": "zi8lV2pbvWMs"
      },
      "source": [
        "## Part 7: Acknowledgements\n",
        "\n",
        "If you discussed this assignment with anyone, please acknowledge them here.\n",
        "If you did this assignment completely on your own, simply write none below.\n",
        "\n",
        "If you used any libraries not mentioned in this module's content, please list them with a brief explanation what you used them for. If you did not use any other libraries, simply write none below.\n",
        "\n",
        "If you used any generative AI tools, please add links to your transcripts below, and any other information that you feel is necessary to comply with the generative AI policy. If you did not use any generative AI tools, simply write none below."
      ]
    },
    {
      "cell_type": "code",
      "execution_count": 13,
      "metadata": {},
      "outputs": [
        {
          "name": "stdout",
          "output_type": "stream",
          "text": [
            "Wrote acknowledgments.txt\n"
          ]
        }
      ],
      "source": [
        "with open(\"acknowledgments.txt\",\"w\") as f:\n",
        "    f.write(\"none\\n\")\n",
        "print(\"Wrote acknowledgments.txt\")\n"
      ]
    }
  ],
  "metadata": {
    "colab": {
      "toc_visible": false
    },
    "kernelspec": {
      "display_name": "base",
      "language": "python",
      "name": "python3"
    },
    "language_info": {
      "codemirror_mode": {
        "name": "ipython",
        "version": 3
      },
      "file_extension": ".py",
      "mimetype": "text/x-python",
      "name": "python",
      "nbconvert_exporter": "python",
      "pygments_lexer": "ipython3",
      "version": "3.12.3"
    }
  },
  "nbformat": 4,
  "nbformat_minor": 0
}
